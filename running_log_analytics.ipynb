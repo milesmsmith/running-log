{
 "cells": [
  {
   "cell_type": "markdown",
   "id": "d9e09e38-fc0c-48ba-9946-7ed6c8309c39",
   "metadata": {},
   "source": [
    " # Running Log Analytics\n",
    " \n",
    " Created by: Miles Smith, Aubrey Roberts\n",
    " \n",
    " Jan. 3, 2024"
   ]
  },
  {
   "cell_type": "code",
   "execution_count": 1,
   "id": "c1a85ec8-f112-4dda-8dd7-a2d7541ca12a",
   "metadata": {
    "tags": []
   },
   "outputs": [
    {
     "name": "stderr",
     "output_type": "stream",
     "text": [
      "/Users/milessmith/anaconda3/envs/conda-env/lib/python3.11/site-packages/pandas/core/arrays/masked.py:60: UserWarning: Pandas requires version '1.3.6' or newer of 'bottleneck' (version '1.3.5' currently installed).\n",
      "  from pandas.core import (\n"
     ]
    }
   ],
   "source": [
    "import os.path\n",
    "import pandas as pd\n",
    "import numpy as np\n",
    "import statsmodels.api as sm\n",
    "import math\n",
    "import seaborn as sns\n",
    "\n",
    "from google.auth.transport.requests import Request\n",
    "from google.oauth2.credentials import Credentials\n",
    "from google_auth_oauthlib.flow import InstalledAppFlow\n",
    "from googleapiclient.discovery import build\n",
    "from googleapiclient.errors import HttpError\n",
    "\n",
    "from datetime import datetime\n",
    "from matplotlib import pyplot as plt\n",
    "from sklearn.linear_model import LinearRegression\n",
    "from sklearn.metrics import mean_squared_error, r2_score"
   ]
  },
  {
   "cell_type": "markdown",
   "id": "7160d8a9-2fd5-47b4-ba5f-94c5fff3df1c",
   "metadata": {},
   "source": [
    "## Import running log data using Google Workspace API"
   ]
  },
  {
   "cell_type": "markdown",
   "id": "022f0785-e7c0-4061-a294-c8c80c01ae56",
   "metadata": {},
   "source": [
    "### Define User Inputs"
   ]
  },
  {
   "cell_type": "code",
   "execution_count": 2,
   "id": "3cd5e08f-bb43-4bd8-a6dc-c53af8841760",
   "metadata": {
    "tags": []
   },
   "outputs": [],
   "source": [
    "SCOPES = [\"https://www.googleapis.com/auth/spreadsheets.readonly\"]\n",
    "SPREADSHEET_ID = \"1VdRxTTKiQk_9wtxOaegy8d-PMaSG-ijkFDCBGHjY_nw\"\n",
    "SHEET_ID = \"1403524267\"\n",
    "RANGE_NAME = \"ACTIVITY LOG!A:AH\""
   ]
  },
  {
   "cell_type": "markdown",
   "id": "61c02380-5d7e-4493-bd5f-4f4a4513fcf3",
   "metadata": {},
   "source": [
    "### Set Credentials"
   ]
  },
  {
   "cell_type": "code",
   "execution_count": 3,
   "id": "56c9154d-123d-41ee-a20d-2ad824dc67b8",
   "metadata": {
    "tags": []
   },
   "outputs": [
    {
     "ename": "RefreshError",
     "evalue": "('invalid_grant: Bad Request', {'error': 'invalid_grant', 'error_description': 'Bad Request'})",
     "output_type": "error",
     "traceback": [
      "\u001b[0;31m---------------------------------------------------------------------------\u001b[0m",
      "\u001b[0;31mRefreshError\u001b[0m                              Traceback (most recent call last)",
      "Cell \u001b[0;32mIn[3], line 10\u001b[0m\n\u001b[1;32m      8\u001b[0m \u001b[38;5;28;01mif\u001b[39;00m \u001b[38;5;129;01mnot\u001b[39;00m creds \u001b[38;5;129;01mor\u001b[39;00m \u001b[38;5;129;01mnot\u001b[39;00m creds\u001b[38;5;241m.\u001b[39mvalid:\n\u001b[1;32m      9\u001b[0m     \u001b[38;5;28;01mif\u001b[39;00m creds \u001b[38;5;129;01mand\u001b[39;00m creds\u001b[38;5;241m.\u001b[39mexpired \u001b[38;5;129;01mand\u001b[39;00m creds\u001b[38;5;241m.\u001b[39mrefresh_token:\n\u001b[0;32m---> 10\u001b[0m       creds\u001b[38;5;241m.\u001b[39mrefresh(Request())\n\u001b[1;32m     11\u001b[0m     \u001b[38;5;28;01melse\u001b[39;00m:\n\u001b[1;32m     12\u001b[0m       flow \u001b[38;5;241m=\u001b[39m InstalledAppFlow\u001b[38;5;241m.\u001b[39mfrom_client_secrets_file(\n\u001b[1;32m     13\u001b[0m           \u001b[38;5;124m\"\u001b[39m\u001b[38;5;124mcredentials.json\u001b[39m\u001b[38;5;124m\"\u001b[39m, SCOPES\n\u001b[1;32m     14\u001b[0m       )\n",
      "File \u001b[0;32m~/anaconda3/envs/conda-env/lib/python3.11/site-packages/google/oauth2/credentials.py:391\u001b[0m, in \u001b[0;36mCredentials.refresh\u001b[0;34m(self, request)\u001b[0m\n\u001b[1;32m    373\u001b[0m \u001b[38;5;28;01mif\u001b[39;00m (\n\u001b[1;32m    374\u001b[0m     \u001b[38;5;28mself\u001b[39m\u001b[38;5;241m.\u001b[39m_refresh_token \u001b[38;5;129;01mis\u001b[39;00m \u001b[38;5;28;01mNone\u001b[39;00m\n\u001b[1;32m    375\u001b[0m     \u001b[38;5;129;01mor\u001b[39;00m \u001b[38;5;28mself\u001b[39m\u001b[38;5;241m.\u001b[39m_token_uri \u001b[38;5;129;01mis\u001b[39;00m \u001b[38;5;28;01mNone\u001b[39;00m\n\u001b[1;32m    376\u001b[0m     \u001b[38;5;129;01mor\u001b[39;00m \u001b[38;5;28mself\u001b[39m\u001b[38;5;241m.\u001b[39m_client_id \u001b[38;5;129;01mis\u001b[39;00m \u001b[38;5;28;01mNone\u001b[39;00m\n\u001b[1;32m    377\u001b[0m     \u001b[38;5;129;01mor\u001b[39;00m \u001b[38;5;28mself\u001b[39m\u001b[38;5;241m.\u001b[39m_client_secret \u001b[38;5;129;01mis\u001b[39;00m \u001b[38;5;28;01mNone\u001b[39;00m\n\u001b[1;32m    378\u001b[0m ):\n\u001b[1;32m    379\u001b[0m     \u001b[38;5;28;01mraise\u001b[39;00m exceptions\u001b[38;5;241m.\u001b[39mRefreshError(\n\u001b[1;32m    380\u001b[0m         \u001b[38;5;124m\"\u001b[39m\u001b[38;5;124mThe credentials do not contain the necessary fields need to \u001b[39m\u001b[38;5;124m\"\u001b[39m\n\u001b[1;32m    381\u001b[0m         \u001b[38;5;124m\"\u001b[39m\u001b[38;5;124mrefresh the access token. You must specify refresh_token, \u001b[39m\u001b[38;5;124m\"\u001b[39m\n\u001b[1;32m    382\u001b[0m         \u001b[38;5;124m\"\u001b[39m\u001b[38;5;124mtoken_uri, client_id, and client_secret.\u001b[39m\u001b[38;5;124m\"\u001b[39m\n\u001b[1;32m    383\u001b[0m     )\n\u001b[1;32m    385\u001b[0m (\n\u001b[1;32m    386\u001b[0m     access_token,\n\u001b[1;32m    387\u001b[0m     refresh_token,\n\u001b[1;32m    388\u001b[0m     expiry,\n\u001b[1;32m    389\u001b[0m     grant_response,\n\u001b[1;32m    390\u001b[0m     rapt_token,\n\u001b[0;32m--> 391\u001b[0m ) \u001b[38;5;241m=\u001b[39m reauth\u001b[38;5;241m.\u001b[39mrefresh_grant(\n\u001b[1;32m    392\u001b[0m     request,\n\u001b[1;32m    393\u001b[0m     \u001b[38;5;28mself\u001b[39m\u001b[38;5;241m.\u001b[39m_token_uri,\n\u001b[1;32m    394\u001b[0m     \u001b[38;5;28mself\u001b[39m\u001b[38;5;241m.\u001b[39m_refresh_token,\n\u001b[1;32m    395\u001b[0m     \u001b[38;5;28mself\u001b[39m\u001b[38;5;241m.\u001b[39m_client_id,\n\u001b[1;32m    396\u001b[0m     \u001b[38;5;28mself\u001b[39m\u001b[38;5;241m.\u001b[39m_client_secret,\n\u001b[1;32m    397\u001b[0m     scopes\u001b[38;5;241m=\u001b[39mscopes,\n\u001b[1;32m    398\u001b[0m     rapt_token\u001b[38;5;241m=\u001b[39m\u001b[38;5;28mself\u001b[39m\u001b[38;5;241m.\u001b[39m_rapt_token,\n\u001b[1;32m    399\u001b[0m     enable_reauth_refresh\u001b[38;5;241m=\u001b[39m\u001b[38;5;28mself\u001b[39m\u001b[38;5;241m.\u001b[39m_enable_reauth_refresh,\n\u001b[1;32m    400\u001b[0m )\n\u001b[1;32m    402\u001b[0m \u001b[38;5;28mself\u001b[39m\u001b[38;5;241m.\u001b[39mtoken \u001b[38;5;241m=\u001b[39m access_token\n\u001b[1;32m    403\u001b[0m \u001b[38;5;28mself\u001b[39m\u001b[38;5;241m.\u001b[39mexpiry \u001b[38;5;241m=\u001b[39m expiry\n",
      "File \u001b[0;32m~/anaconda3/envs/conda-env/lib/python3.11/site-packages/google/oauth2/reauth.py:365\u001b[0m, in \u001b[0;36mrefresh_grant\u001b[0;34m(request, token_uri, refresh_token, client_id, client_secret, scopes, rapt_token, enable_reauth_refresh)\u001b[0m\n\u001b[1;32m    356\u001b[0m     (\n\u001b[1;32m    357\u001b[0m         response_status_ok,\n\u001b[1;32m    358\u001b[0m         response_data,\n\u001b[0;32m   (...)\u001b[0m\n\u001b[1;32m    361\u001b[0m         request, token_uri, body, headers\u001b[38;5;241m=\u001b[39mmetrics_header\n\u001b[1;32m    362\u001b[0m     )\n\u001b[1;32m    364\u001b[0m \u001b[38;5;28;01mif\u001b[39;00m \u001b[38;5;129;01mnot\u001b[39;00m response_status_ok:\n\u001b[0;32m--> 365\u001b[0m     _client\u001b[38;5;241m.\u001b[39m_handle_error_response(response_data, retryable_error)\n\u001b[1;32m    366\u001b[0m \u001b[38;5;28;01mreturn\u001b[39;00m _client\u001b[38;5;241m.\u001b[39m_handle_refresh_grant_response(response_data, refresh_token) \u001b[38;5;241m+\u001b[39m (\n\u001b[1;32m    367\u001b[0m     rapt_token,\n\u001b[1;32m    368\u001b[0m )\n",
      "File \u001b[0;32m~/anaconda3/envs/conda-env/lib/python3.11/site-packages/google/oauth2/_client.py:72\u001b[0m, in \u001b[0;36m_handle_error_response\u001b[0;34m(response_data, retryable_error)\u001b[0m\n\u001b[1;32m     69\u001b[0m \u001b[38;5;28;01mexcept\u001b[39;00m (\u001b[38;5;167;01mKeyError\u001b[39;00m, \u001b[38;5;167;01mValueError\u001b[39;00m):\n\u001b[1;32m     70\u001b[0m     error_details \u001b[38;5;241m=\u001b[39m json\u001b[38;5;241m.\u001b[39mdumps(response_data)\n\u001b[0;32m---> 72\u001b[0m \u001b[38;5;28;01mraise\u001b[39;00m exceptions\u001b[38;5;241m.\u001b[39mRefreshError(\n\u001b[1;32m     73\u001b[0m     error_details, response_data, retryable\u001b[38;5;241m=\u001b[39mretryable_error\n\u001b[1;32m     74\u001b[0m )\n",
      "\u001b[0;31mRefreshError\u001b[0m: ('invalid_grant: Bad Request', {'error': 'invalid_grant', 'error_description': 'Bad Request'})"
     ]
    }
   ],
   "source": [
    "creds = None\n",
    "# The file token.json stores the user's access and refresh tokens, and is\n",
    "# created automatically when the authorization flow completes for the first\n",
    "# time.\n",
    "if os.path.exists(\"token.json\"):\n",
    "    creds = Credentials.from_authorized_user_file(\"token.json\", SCOPES)\n",
    "    # If there are no (valid) credentials available, let the user log in.\n",
    "if not creds or not creds.valid:\n",
    "    if creds and creds.expired and creds.refresh_token:\n",
    "      creds.refresh(Request())\n",
    "    else:\n",
    "      flow = InstalledAppFlow.from_client_secrets_file(\n",
    "          \"credentials.json\", SCOPES\n",
    "      )\n",
    "      creds = flow.run_local_server(port=0)\n",
    "    # Save the credentials for the next run\n",
    "    with open(\"token.json\", \"w\") as token:\n",
    "      token.write(creds.to_json())\n"
   ]
  },
  {
   "cell_type": "markdown",
   "id": "7217ce7e-07c0-4756-8032-a1ca1b70e916",
   "metadata": {},
   "source": [
    "### Import Data from Sheets"
   ]
  },
  {
   "cell_type": "code",
   "execution_count": 51,
   "id": "04f27d2a-2ae2-4b9a-bb24-626c718ce07a",
   "metadata": {
    "tags": []
   },
   "outputs": [],
   "source": [
    "try:\n",
    "    service = build(\"sheets\", \"v4\", credentials=creds)\n",
    "    \n",
    "    # Call sheets API\n",
    "    sheet = service.spreadsheets()\n",
    "    result = (\n",
    "        sheet.values()\n",
    "        .get(spreadsheetId=SPREADSHEET_ID, range=RANGE_NAME)\n",
    "        .execute()\n",
    "        )\n",
    "    \n",
    "    values = result.get(\"values\", [])\n",
    "\n",
    "    \n",
    "    if not values:\n",
    "        print(\"No data found.\")\n",
    "    \n",
    "    # Clean data and set data types\n",
    "    for i in range(len(values)):\n",
    "        # Ignore empty rows.\n",
    "        if values[i][5] and i > 0:\n",
    "            # Define the rows from activity log\n",
    "            values[i][0] = int(values[i][0]) # Day number\n",
    "            values[i][1] = bool(values[i][1] == 'TRUE') # EOW\n",
    "            values[i][2] = bool(values[i][2] == 'TRUE') # EOM\n",
    "            values[i][3] = bool(values[i][3] == 'TRUE') # EOY\n",
    "            values[i][4] = str(values[i][4]) # Day\n",
    "            values[i][5] = datetime.strptime(str(values[i][5]), '%m/%d/%Y').date() # Date\n",
    "            values[i][6] = float(values[i][6]) # Distance\n",
    "            try:\n",
    "                values[i][7] = datetime.strptime(str(values[i][7]), '%H:%M:%S').time() # Duration\n",
    "            except ValueError:\n",
    "                values[i][7] = None\n",
    "            try:\n",
    "                values[i][8] = datetime.strptime(str(values[i][8]), '%H:%M:%S').time() # Pace\n",
    "            except:\n",
    "                values[i][8] = None\n",
    "            values[i][9] = str(values[i][9]) # Activity Type\n",
    "            try:\n",
    "                values[i][10] = int(values[i][10]) # Elevation Gain\n",
    "            except ValueError:\n",
    "                values[i][10] = None\n",
    "            try:\n",
    "                values[i][11] = int(values[i][11]) # Heart Rate\n",
    "            except ValueError:\n",
    "                values[i][11] = None\n",
    "            try:    \n",
    "                values[i][12] = int(values[i][12]) # Cadence\n",
    "            except ValueError:\n",
    "                values[i][12] = None\n",
    "            values[i][13] = str(values[i][13]) # \n",
    "            values[i][14] = str(values[i][14]) # \n",
    "            values[i][15] = bool(values[i][15] == 'TRUE') # Drills\n",
    "            values[i][16] = bool(values[i][16] == 'TRUE') # Strides\n",
    "            values[i][17] = bool(values[i][17] == 'TRUE') # Strength\n",
    "            try:\n",
    "                values[i][18] = float(values[i][18]) # Sleep Hours\n",
    "            except ValueError:\n",
    "                values[i][18] = None\n",
    "            values[i][19] = str(values[i][19]) # Sleep Quality\n",
    "            values[i][20] = str(values[i][20]) # Energy\n",
    "            values[i][21] = bool(values[i][21] == 'TRUE') # Nap\n",
    "            values[i][22] = float(values[i][22]) # WTD Easy\n",
    "            values[i][23] = float(values[i][23]) # WTD Hard\n",
    "            values[i][24] = float(values[i][24]) # WTD Long\n",
    "            values[i][25] = float(values[i][25]) # WTD Bike\n",
    "            values[i][26] = float(values[i][26]) # WTD Other\n",
    "            values[i][27] = str(values[i][27]) # WTD XT Time\n",
    "            values[i][28] = str(values[i][28]) # WTD Run Time\n",
    "            values[i][29] = float(values[i][29]) # WTD\n",
    "            values[i][30] = float(values[i][30]) # MTD\n",
    "            values[i][31] = float(values[i][31]) # YTD\n",
    "            values[i][32] = float(values[i][32]) # Total Distance\n",
    "            try:\n",
    "                values[i][33] = str(values[i][33]) # Equipment\n",
    "            except IndexError:\n",
    "                values[i].append(None) \n",
    "    \n",
    "except HttpError as err:\n",
    "    print(err)\n",
    "    \n",
    "run_df = pd.DataFrame(data=values[1:],columns=values[0])\n",
    "run_df = run_df[run_df['Date'] != ''] # Remove empty rows from data frame.\n",
    "\n",
    "# print(run_df['Energy'])"
   ]
  },
  {
   "cell_type": "markdown",
   "id": "b9b3fbd1-b774-42fe-95d7-3d8159312093",
   "metadata": {},
   "source": [
    "## Running Analytics"
   ]
  },
  {
   "cell_type": "markdown",
   "id": "8c08e109-c1ab-430b-9513-074151c65e03",
   "metadata": {
    "tags": []
   },
   "source": [
    "### Linear Regression"
   ]
  },
  {
   "cell_type": "markdown",
   "id": "3f2a5eeb-81e3-48ae-b6c1-ffafbe381f89",
   "metadata": {
    "tags": []
   },
   "source": [
    "#### Future Steps:\n",
    "- Adding effort and energy levels might be interesting and are tracked on the Google Sheet\n",
    "- Import time, elevation, and location data from activities using Garmin or Strava API\n",
    "- Import weather data from OpenWeatherMap API\n",
    "- How to incorporate changes in fitness?\n",
    "- What if non-linear?"
   ]
  },
  {
   "cell_type": "code",
   "execution_count": null,
   "id": "f3418342-2397-4502-90e7-235d816b9751",
   "metadata": {
    "tags": []
   },
   "outputs": [],
   "source": [
    "easy_df = run_df\n",
    "type_dummy_df = pd.get_dummies(easy_df['Type'], prefix='Type')\n",
    "\n",
    "energy_order = ['Barely functioning', 'Low', 'Normal', 'High']\n",
    "feel_order = ['Awful', 'Bad', 'Normal', 'Good', 'Great']\n",
    "effort_order = ['Easy', 'Moderate', 'Hard', 'Max Effort']\n",
    "\n",
    "easy_df['energy_encoded'] = easy_df['Energy'].astype('category').cat.set_categories(energy_order).cat.codes.replace(-1, None)\n",
    "easy_df['feel_encoded'] = easy_df['Feel'].astype('category').cat.set_categories(feel_order).cat.codes.replace(-1, None)\n",
    "easy_df['effort_encoded'] = easy_df['Effort'].astype('category').cat.set_categories(effort_order).cat.codes.replace(-1, None)\n",
    "\n",
    "easy_df = pd.concat([easy_df, type_dummy_df], axis=1)\n",
    "\n",
    "X = easy_df[['Distance (mi.)', 'Duration (hh:mm:ss)', 'Pace (min/mile)', 'Climb (ft.)', 'Cadence', 'Sleep (hours)', 'energy_encoded', 'Type_Long Run', 'Type_Easy', 'feel_encoded', 'effort_encoded', 'HR (bpm)']]\n",
    "X = X.dropna()\n",
    "X['Duration (hh:mm:ss)'] = X['Duration (hh:mm:ss)'].apply(lambda x: x.hour * 60 + x.minute)\n",
    "X['Pace (min/mile)'] = X['Pace (min/mile)'].apply(lambda x: x.hour * 60 + x.minute)\n",
    "y = X['HR (bpm)']\n",
    "X = X.drop('HR (bpm)', axis=1)\n",
    "\n",
    "lin_reg = LinearRegression()\n",
    "\n",
    "lin_reg.fit(X, y)\n",
    "y_predict = lin_reg.predict(X)\n",
    "\n",
    "lin_reg_fig, lin_reg_ax = plt.subplots(1)\n",
    "lin_reg_ax.plot(y.values, y_predict, linewidth=0, marker='.')\n",
    "lin_reg_ax.set_xlim(120, 180)\n",
    "lin_reg_ax.set_ylim(120, 180)\n",
    "lin_reg_ax.set_ylabel('Predicted Heart Rate (bpm)')\n",
    "lin_reg_ax.set_xlabel('Measured Heart Rate (bpm)')\n",
    "\n",
    "rmse = math.sqrt(mean_squared_error(y, y_predict))\n",
    "r_squared = r2_score(y, y_predict)\n",
    "\n",
    "X = np.array(X, dtype=float)\n",
    "y = np.array(y, dtype=float)\n",
    "\n",
    "X = sm.add_constant(X)\n",
    "model = sm.OLS(y, X).fit()\n",
    "\n",
    "model.summary()"
   ]
  },
  {
   "cell_type": "markdown",
   "id": "15797d01-1f6f-44bb-94f9-487a399d8e91",
   "metadata": {
    "tags": []
   },
   "source": [
    "### Heart Rate Analytics"
   ]
  },
  {
   "cell_type": "code",
   "execution_count": null,
   "id": "f29e00a2-5e3c-43be-84f0-5f4b88718f48",
   "metadata": {
    "tags": []
   },
   "outputs": [],
   "source": [
    "colormap = plt.get_cmap('Set2')\n",
    "easy_df['pace_float'] = easy_df['Pace (min/mile)'].apply(lambda x: x.minute+x.second/60)\n",
    "\n",
    "# Interesting variables: pace, day (box plot)\n",
    "hr_ax = easy_df.plot(x='pace_float', y='HR (bpm)', kind='scatter', c=easy_df['effort_encoded'], cmap=colormap)\n",
    "plt.colorbar(hr_ax.get_children()[0], label='Effort')\n",
    "hr_ax.set_ylim(120, 200)\n",
    "hr_ax.set_title('Average heart rate compared to average pace')\n",
    "hr_ax.set_xlabel('Pace (min/mile)')\n",
    "hr_ax.set_ylabel('Heart Rate (bpm)')"
   ]
  },
  {
   "cell_type": "markdown",
   "id": "1c5cbbbd-10a6-4983-96d7-479ee25f39e4",
   "metadata": {},
   "source": [
    "### Partial autocorrelation for seasonal trends\n",
    "- How can we explain the variance in heart rate centered around 7:00/mile?\n",
    "- partial autocorrelation function with sleep, pace\n",
    "- narrow temperature (6:45 - 7:15 maybe)\n",
    "- incorporate predictors such as time of day, elevation, temperature, time of year\n",
    "- multi-variate autocorrelation function with relative weights for time series\n",
    "- look into system identification \n",
    "- running research group\n",
    "- follow up with joey licht"
   ]
  },
  {
   "cell_type": "markdown",
   "id": "d8dea505-3e0a-41fd-8647-5cf6a68004fe",
   "metadata": {
    "tags": []
   },
   "source": [
    "### Sleep Analytics"
   ]
  },
  {
   "cell_type": "code",
   "execution_count": null,
   "id": "bace28ec-4275-4dd6-9bf9-e5c59df3bd7d",
   "metadata": {
    "tags": []
   },
   "outputs": [],
   "source": [
    "easy_df = run_df\n",
    "easy_df = easy_df[easy_df['Sleep (hours)'] != ''] # Remove empty rows from data frame.\n",
    "easy_df = easy_df[easy_df['HR (bpm)'] != ''] # Remove empty rows from data frame.\n",
    "easy_df =easy_df.dropna()\n",
    "sns.boxplot(x='Sleep (hours)', y='HR (bpm)', data=easy_df)\n",
    "plt.ylim(120, 170)"
   ]
  },
  {
   "cell_type": "markdown",
   "id": "4368bec7-4017-4e8d-ad77-8917966a13e2",
   "metadata": {},
   "source": [
    "### Mileage Bar Chart"
   ]
  },
  {
   "cell_type": "code",
   "execution_count": null,
   "id": "d816bedb-5c03-4f0f-ad17-b2c48abf7201",
   "metadata": {
    "tags": []
   },
   "outputs": [],
   "source": [
    "week_fig, week_ax = plt.subplots(1)\n",
    "wtd_df = run_df[run_df['EOW'] == True]\n",
    "\n",
    "width=6\n",
    "week_ax.bar(wtd_df['Date'], wtd_df['Easy'], width, label='Easy')\n",
    "week_ax.bar(wtd_df['Date'], wtd_df['Hard'], width, label='Hard', bottom=np.array(wtd_df['Easy']))\n",
    "week_ax.bar(wtd_df['Date'], wtd_df['Long'], width, label='Long', bottom=np.add(np.array(wtd_df['Easy']), np.array(wtd_df['Hard'])))\n",
    "week_ax.legend()\n",
    "week_ax.set_ylabel('Weekly Mileage (mi.)')\n",
    "week_ax.set_xlabel('End of Week')\n",
    "week_ax.set_title('Weekly Mileage')\n",
    "week_fig.set_figwidth(25)\n",
    "week_fig.set_figheight(10)"
   ]
  },
  {
   "cell_type": "markdown",
   "id": "1255d15f-638f-4679-b4e2-cd8d977a0f9d",
   "metadata": {},
   "source": [
    "## Import data from Garmin Connect"
   ]
  },
  {
   "cell_type": "code",
   "execution_count": 6,
   "id": "4f00b4bc-cd4b-4f7d-98b2-a6014f4a419d",
   "metadata": {
    "tags": []
   },
   "outputs": [],
   "source": [
    "from garminconnect import Garmin\n",
    "import datetime"
   ]
  },
  {
   "cell_type": "code",
   "execution_count": 10,
   "id": "8614f7a7-6a9e-4012-aaae-57db2a3632a9",
   "metadata": {
    "tags": []
   },
   "outputs": [
    {
     "ename": "AssertionError",
     "evalue": "",
     "output_type": "error",
     "traceback": [
      "\u001b[0;31m---------------------------------------------------------------------------\u001b[0m",
      "\u001b[0;31mAssertionError\u001b[0m                            Traceback (most recent call last)",
      "Cell \u001b[0;32mIn[10], line 6\u001b[0m\n\u001b[1;32m      4\u001b[0m \u001b[38;5;66;03m# Initialize API\u001b[39;00m\n\u001b[1;32m      5\u001b[0m garmin_api \u001b[38;5;241m=\u001b[39m Garmin(\u001b[38;5;124m\"\u001b[39m\u001b[38;5;124mmiles96@live.com\u001b[39m\u001b[38;5;124m\"\u001b[39m, \u001b[38;5;124m\"\u001b[39m\u001b[38;5;124m@Track98\u001b[39m\u001b[38;5;124m\"\u001b[39m)\n\u001b[0;32m----> 6\u001b[0m garmin_api\u001b[38;5;241m.\u001b[39mlogin()\n",
      "File \u001b[0;32m~/anaconda3/envs/conda-env/lib/python3.11/site-packages/garminconnect/__init__.py:181\u001b[0m, in \u001b[0;36mGarmin.login\u001b[0;34m(self, tokenstore)\u001b[0m\n\u001b[1;32m    178\u001b[0m \u001b[38;5;28;01melse\u001b[39;00m:\n\u001b[1;32m    179\u001b[0m     \u001b[38;5;28mself\u001b[39m\u001b[38;5;241m.\u001b[39mgarth\u001b[38;5;241m.\u001b[39mlogin(\u001b[38;5;28mself\u001b[39m\u001b[38;5;241m.\u001b[39musername, \u001b[38;5;28mself\u001b[39m\u001b[38;5;241m.\u001b[39mpassword)\n\u001b[0;32m--> 181\u001b[0m \u001b[38;5;28mself\u001b[39m\u001b[38;5;241m.\u001b[39mdisplay_name \u001b[38;5;241m=\u001b[39m \u001b[38;5;28mself\u001b[39m\u001b[38;5;241m.\u001b[39mgarth\u001b[38;5;241m.\u001b[39mprofile[\u001b[38;5;124m\"\u001b[39m\u001b[38;5;124mdisplayName\u001b[39m\u001b[38;5;124m\"\u001b[39m]\n\u001b[1;32m    182\u001b[0m \u001b[38;5;28mself\u001b[39m\u001b[38;5;241m.\u001b[39mfull_name \u001b[38;5;241m=\u001b[39m \u001b[38;5;28mself\u001b[39m\u001b[38;5;241m.\u001b[39mgarth\u001b[38;5;241m.\u001b[39mprofile[\u001b[38;5;124m\"\u001b[39m\u001b[38;5;124mfullName\u001b[39m\u001b[38;5;124m\"\u001b[39m]\n\u001b[1;32m    184\u001b[0m settings \u001b[38;5;241m=\u001b[39m \u001b[38;5;28mself\u001b[39m\u001b[38;5;241m.\u001b[39mgarth\u001b[38;5;241m.\u001b[39mconnectapi(\u001b[38;5;28mself\u001b[39m\u001b[38;5;241m.\u001b[39mgarmin_connect_user_settings_url)\n",
      "File \u001b[0;32m~/anaconda3/envs/conda-env/lib/python3.11/site-packages/garth/http.py:104\u001b[0m, in \u001b[0;36mClient.profile\u001b[0;34m(self)\u001b[0m\n\u001b[1;32m    100\u001b[0m \u001b[38;5;28;01mif\u001b[39;00m \u001b[38;5;129;01mnot\u001b[39;00m \u001b[38;5;28mself\u001b[39m\u001b[38;5;241m.\u001b[39m_profile:\n\u001b[1;32m    101\u001b[0m     \u001b[38;5;28mself\u001b[39m\u001b[38;5;241m.\u001b[39m_profile \u001b[38;5;241m=\u001b[39m \u001b[38;5;28mself\u001b[39m\u001b[38;5;241m.\u001b[39mconnectapi(\n\u001b[1;32m    102\u001b[0m         \u001b[38;5;124m\"\u001b[39m\u001b[38;5;124m/userprofile-service/socialProfile\u001b[39m\u001b[38;5;124m\"\u001b[39m\n\u001b[1;32m    103\u001b[0m     )\n\u001b[0;32m--> 104\u001b[0m     \u001b[38;5;28;01massert\u001b[39;00m \u001b[38;5;28misinstance\u001b[39m(\u001b[38;5;28mself\u001b[39m\u001b[38;5;241m.\u001b[39m_profile, \u001b[38;5;28mdict\u001b[39m)\n\u001b[1;32m    105\u001b[0m \u001b[38;5;28;01mreturn\u001b[39;00m \u001b[38;5;28mself\u001b[39m\u001b[38;5;241m.\u001b[39m_profile\n",
      "\u001b[0;31mAssertionError\u001b[0m: "
     ]
    }
   ],
   "source": [
    "start_date = datetime.datetime(2015, 1, 1)\n",
    "end_date = datetime.date.today()\n",
    "\n",
    "# Initialize API\n",
    "garmin_api = Garmin()\n",
    "garmin_api.login()\n",
    "activities = garmin_api.get_activities(0, 10000)"
   ]
  },
  {
   "cell_type": "code",
   "execution_count": 45,
   "id": "0fbeb654-8f0b-44e9-8571-92644a995773",
   "metadata": {
    "tags": []
   },
   "outputs": [],
   "source": [
    "for activity in activities:\n",
    "    print(activity)\n",
    "\n",
    "for i in range(len(activities)):\n",
    "    print(activities[i]['startTimeLocal'])\n",
    "    # print(activities[i]['averageHR'])"
   ]
  },
  {
   "cell_type": "code",
   "execution_count": null,
   "id": "a24f754a-e096-4b05-8a4d-d0c103a7f8c0",
   "metadata": {},
   "outputs": [],
   "source": []
  }
 ],
 "metadata": {
  "kernelspec": {
   "display_name": "Python 3 (ipykernel)",
   "language": "python",
   "name": "python3"
  },
  "language_info": {
   "codemirror_mode": {
    "name": "ipython",
    "version": 3
   },
   "file_extension": ".py",
   "mimetype": "text/x-python",
   "name": "python",
   "nbconvert_exporter": "python",
   "pygments_lexer": "ipython3",
   "version": "3.11.5"
  },
  "toc-showmarkdowntxt": true
 },
 "nbformat": 4,
 "nbformat_minor": 5
}
